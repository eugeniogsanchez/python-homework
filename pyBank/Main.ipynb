{
 "cells": [
  {
   "cell_type": "code",
   "execution_count": 35,
   "id": "829f4f91-3abf-4f60-9a9a-306b6845ce50",
   "metadata": {},
   "outputs": [
    {
     "name": "stdout",
     "output_type": "stream",
     "text": [
      "Financial Analysis\n",
      "=========================================\n",
      "\n",
      "Total of Months: 86\n",
      "=========================================\n",
      "-Greatest Increase Profits: $1170593\n",
      "-Greatest Decrese Profits:  $-1196225\n",
      "-Average changes: $446309.05\n",
      "\n",
      "-----------------------------------------\n",
      "-Net PnL: $38382578\n",
      "-----------------------------------------\n"
     ]
    }
   ],
   "source": [
    "'''\n",
    "The total number of months included in the dataset.\n",
    "The net total amount of Profit/Losses over the entire period.\n",
    "The average of the changes in Profit/Losses over the entire period.\n",
    "The greatest increase in profits (date and amount) over the entire period.\n",
    "The greatest decrease in losses (date and amount) over the entire period.\n",
    "'''\n",
    "\n",
    "import pandas as pd\n",
    "import numpy as np\n",
    "\n",
    "#reading the data from a csv file\n",
    "df = pd.read_csv(\"budget_data.csv\")\n",
    "\n",
    "\n",
    "#variables\n",
    "total_months = 0\n",
    "net_pnl = 0\n",
    "avg_pnl = 0\n",
    "greatest_inc_profits = 0\n",
    "greatest_dec_profits = 0\n",
    "\n",
    "\n",
    "#retrieving values\n",
    "\n",
    "'''     #greatest_inc_profits = df.max()  #tried this method but the it brings the column header\n",
    "        #greatest_dec_profits = df.min()\n",
    "        #avg_pnl = df.mean() \n",
    "'''\n",
    "\n",
    "net_pnl = df['Profit/Losses'].sum()\n",
    "greatest_inc_profits = df['Profit/Losses'].max()\n",
    "greatest_dec_profits = df['Profit/Losses'].min()\n",
    "avg_pnl = df['Profit/Losses'].mean()\n",
    "\n",
    "\n",
    "#printing results\n",
    "print(\"Financial Analysis\")\n",
    "print(\"=========================================\")\n",
    "print()\n",
    "print(f\"Total of Months: {len(df)}\")\n",
    "print(\"=========================================\")\n",
    "print(f\"-Greatest Increase Profits: ${greatest_inc_profits}\")\n",
    "print(f\"-Greatest Decrese Profits:  ${greatest_dec_profits}\")\n",
    "print(f\"-Average changes: ${np.round(avg_pnl,2)}\")\n",
    "print()\n",
    "print(\"-----------------------------------------\")\n",
    "print(f\"-Net PnL: ${net_pnl}\")\n",
    "print(\"-----------------------------------------\")"
   ]
  },
  {
   "cell_type": "code",
   "execution_count": null,
   "id": "0c85ff59-3333-43e0-8d46-48ba5c8443a6",
   "metadata": {},
   "outputs": [],
   "source": []
  }
 ],
 "metadata": {
  "kernelspec": {
   "display_name": "Python 3 (ipykernel)",
   "language": "python",
   "name": "python3"
  },
  "language_info": {
   "codemirror_mode": {
    "name": "ipython",
    "version": 3
   },
   "file_extension": ".py",
   "mimetype": "text/x-python",
   "name": "python",
   "nbconvert_exporter": "python",
   "pygments_lexer": "ipython3",
   "version": "3.9.7"
  }
 },
 "nbformat": 4,
 "nbformat_minor": 5
}
